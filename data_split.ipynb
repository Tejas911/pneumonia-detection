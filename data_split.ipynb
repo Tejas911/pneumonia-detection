{
 "cells": [
  {
   "cell_type": "code",
   "execution_count": 2,
   "metadata": {},
   "outputs": [],
   "source": [
    "import os\n",
    "import shutil\n",
    "from math import ceil\n"
   ]
  },
  {
   "cell_type": "code",
   "execution_count": 3,
   "metadata": {},
   "outputs": [],
   "source": [
    "\n",
    "# Define the source and destination directories\n",
    "source_dir1 = \"chest_xray/train/NORMAL\"\n",
    "source_dir2 = \"chest_xray/train/PNEUMONIA\"\n",
    "\n",
    "train_1_dir_normal = \"split_chest_xray/train1/NORMAL\"\n",
    "train_1_dir_pneumonia = \"split_chest_xray/train1/PNEUMONIA\"\n",
    "\n",
    "train_2_dir_normal = \"split_chest_xray/train2/NORMAL\"\n",
    "train_2_dir_pneumonia = \"split_chest_xray/train2/PNEUMONIA\"\n",
    "\n",
    "train_3_dir_normal = \"split_chest_xray/train3/NORMAL\"\n",
    "train_3_dir_pneumonia = \"split_chest_xray/train3/PNEUMONIA\"\n",
    "\n",
    "train_4_dir_normal = \"split_chest_xray/train4/NORMAL\"\n",
    "train_4_dir_pneumonia = \"split_chest_xray/train4/PNEUMONIA\"\n",
    "\n",
    "# Create destination directories if they don't exist\n",
    "os.makedirs(train_1_dir_normal, exist_ok=True)\n",
    "os.makedirs(train_1_dir_pneumonia, exist_ok=True)\n",
    "\n",
    "os.makedirs(train_2_dir_normal, exist_ok=True)\n",
    "os.makedirs(train_2_dir_pneumonia, exist_ok=True)\n",
    "\n",
    "os.makedirs(train_3_dir_normal, exist_ok=True)\n",
    "os.makedirs(train_3_dir_pneumonia, exist_ok=True)\n",
    "\n",
    "os.makedirs(train_4_dir_normal, exist_ok=True)\n",
    "os.makedirs(train_4_dir_pneumonia, exist_ok=True)\n",
    "\n"
   ]
  },
  {
   "cell_type": "code",
   "execution_count": 4,
   "metadata": {},
   "outputs": [],
   "source": [
    "# Get the list of all files in the source directory\n",
    "all_files_normal = os.listdir(source_dir1)\n",
    "all_files_pneumonia = os.listdir(source_dir2)\n",
    "\n",
    "# Calculate the split points for four equal splits\n",
    "split_point_1_normal = ceil(len(all_files_normal) / 4)\n",
    "split_point_2_normal = ceil(len(all_files_normal) / 2)\n",
    "split_point_3_normal = ceil(3 * len(all_files_normal) / 4)\n",
    "\n",
    "split_point_1_pneumonia = ceil(len(all_files_pneumonia) / 4)\n",
    "split_point_2_pneumonia = ceil(len(all_files_pneumonia) / 2)\n",
    "split_point_3_pneumonia = ceil(3 * len(all_files_pneumonia) / 4)\n",
    "\n",
    "# Split the files into four lists\n",
    "files_1_normal = all_files_normal[:split_point_1_normal]\n",
    "files_2_normal = all_files_normal[split_point_1_normal:split_point_2_normal]\n",
    "files_3_normal = all_files_normal[split_point_2_normal:split_point_3_normal]\n",
    "files_4_normal = all_files_normal[split_point_3_normal:]\n",
    "\n",
    "files_1_pneumonia = all_files_pneumonia[:split_point_1_pneumonia]\n",
    "files_2_pneumonia = all_files_pneumonia[split_point_1_pneumonia:split_point_2_pneumonia]\n",
    "files_3_pneumonia = all_files_pneumonia[split_point_2_pneumonia:split_point_3_pneumonia]\n",
    "files_4_pneumonia = all_files_pneumonia[split_point_3_pneumonia:]\n",
    "\n",
    "\n"
   ]
  },
  {
   "cell_type": "code",
   "execution_count": 5,
   "metadata": {},
   "outputs": [],
   "source": [
    "# Function to copy files from source to destination directory\n",
    "def copy_files(file_list, source_dir, dest_dir):\n",
    "    for file_name in file_list:\n",
    "        source_path = os.path.join(source_dir, file_name)\n",
    "        dest_path = os.path.join(dest_dir, file_name)\n",
    "        shutil.copy2(source_path, dest_path)\n"
   ]
  },
  {
   "cell_type": "code",
   "execution_count": 6,
   "metadata": {},
   "outputs": [
    {
     "name": "stdout",
     "output_type": "stream",
     "text": [
      "Files copied successfully!\n"
     ]
    }
   ],
   "source": [
    "# Copy files to the four split directories\n",
    "copy_files(files_1_normal, source_dir1, train_1_dir_normal)\n",
    "copy_files(files_1_pneumonia, source_dir2, train_1_dir_pneumonia)\n",
    "\n",
    "print(\"Files copied successfully!\")"
   ]
  },
  {
   "cell_type": "code",
   "execution_count": 7,
   "metadata": {},
   "outputs": [
    {
     "name": "stdout",
     "output_type": "stream",
     "text": [
      "Files copied successfully!\n"
     ]
    }
   ],
   "source": [
    "copy_files(files_2_normal, source_dir1, train_2_dir_normal)\n",
    "copy_files(files_2_pneumonia, source_dir2, train_2_dir_pneumonia)\n",
    "\n",
    "print(\"Files copied successfully!\")"
   ]
  },
  {
   "cell_type": "code",
   "execution_count": 8,
   "metadata": {},
   "outputs": [
    {
     "name": "stdout",
     "output_type": "stream",
     "text": [
      "Files copied successfully!\n"
     ]
    }
   ],
   "source": [
    "copy_files(files_3_normal, source_dir1, train_3_dir_normal)\n",
    "copy_files(files_3_pneumonia, source_dir2, train_3_dir_pneumonia)\n",
    "\n",
    "print(\"Files copied successfully!\")"
   ]
  },
  {
   "cell_type": "code",
   "execution_count": 9,
   "metadata": {},
   "outputs": [
    {
     "name": "stdout",
     "output_type": "stream",
     "text": [
      "Files copied successfully!\n"
     ]
    }
   ],
   "source": [
    "copy_files(files_4_normal, source_dir1, train_4_dir_normal)\n",
    "copy_files(files_4_pneumonia, source_dir2, train_4_dir_pneumonia)\n",
    "\n",
    "print(\"Files copied successfully!\")"
   ]
  }
 ],
 "metadata": {
  "kernelspec": {
   "display_name": "Python 3",
   "language": "python",
   "name": "python3"
  },
  "language_info": {
   "codemirror_mode": {
    "name": "ipython",
    "version": 3
   },
   "file_extension": ".py",
   "mimetype": "text/x-python",
   "name": "python",
   "nbconvert_exporter": "python",
   "pygments_lexer": "ipython3",
   "version": "3.11.2"
  }
 },
 "nbformat": 4,
 "nbformat_minor": 2
}
